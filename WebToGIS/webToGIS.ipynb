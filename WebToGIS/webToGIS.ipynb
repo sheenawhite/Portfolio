{
 "cells": [
  {
   "cell_type": "markdown",
   "metadata": {},
   "source": [
    "# Web to GIS\n",
    "\n",
    "***\n",
    "**This program will scrape data from a webpage, geocode the data into latitude and longitude coordinates, and then create a map for viewing. The website chosen is [Travel + Leisure's article on the Top 15 Cities in the United States](http://www.travelandleisure.com/worlds-best/cities-in-us).**\n",
    "\n",
    "[MAP - Top 15 Cities in the U.S.](http://students.washington.edu/sheenaw/top15.html)"
   ]
  },
  {
   "cell_type": "code",
   "execution_count": 1,
   "metadata": {},
   "outputs": [],
   "source": [
    "# import packages\n",
    "import geopandas as gpd\n",
    "import pandas, folium, lxml, cssselect, urllib, urllib2, json, shapely, shapely.geometry, os\n",
    "from lxml import html\n",
    "from bs4 import BeautifulSoup\n",
    "%matplotlib inline"
   ]
  },
  {
   "cell_type": "markdown",
   "metadata": {},
   "source": [
    "### 1) Scrape Website"
   ]
  },
  {
   "cell_type": "code",
   "execution_count": 2,
   "metadata": {},
   "outputs": [],
   "source": [
    "# define URL and create html element\n",
    "url = 'http://www.travelandleisure.com/worlds-best/cities-in-us'\n",
    "request = urllib2.Request(url)       # make request to URL\n",
    "connect = urllib2.urlopen(request)   # connect to URL\n",
    "doc_text = connect.read()            # read URL as string\n",
    "doc = lxml.html.fromstring(doc_text) # convert string to html element\n",
    "doc.make_links_absolute(url)         # make all links in the document absolute"
   ]
  },
  {
   "cell_type": "code",
   "execution_count": 3,
   "metadata": {},
   "outputs": [],
   "source": [
    "# # code from Data Journalism Handbook scraper example code \n",
    "\n",
    "# # check error\n",
    "# try:\n",
    "#     f = urllib2.urlopen(url)\n",
    "# except urllib2.HTTPError, e:\n",
    "#     print e.fp.read()"
   ]
  },
  {
   "cell_type": "code",
   "execution_count": 4,
   "metadata": {},
   "outputs": [],
   "source": [
    "# # code from Data Journalism Handbook scraper example code \n",
    "\n",
    "# req = urllib2.Request(url, headers={'User-Agent' : \"Magic Browser\"}) \n",
    "# con = urllib2.urlopen( req )\n",
    "# doc_text = con.read()\n",
    "# doc = lxml.html.fromstring(doc_text)\n",
    "# doc.make_links_absolute(url)"
   ]
  },
  {
   "cell_type": "code",
   "execution_count": 5,
   "metadata": {},
   "outputs": [],
   "source": [
    "# store the html element in BeautifulSoup format for easier reading\n",
    "soup = BeautifulSoup(doc_text, 'html.parser')\n",
    "# print soup.prettify()"
   ]
  },
  {
   "cell_type": "code",
   "execution_count": 6,
   "metadata": {},
   "outputs": [
    {
     "name": "stdout",
     "output_type": "stream",
     "text": [
      "The Top 15 Cities in the United States\n",
      "{'Santa Fe, New Mexico': '2', 'Asheville, North Carolina': '9', 'Williamsburg, Virginia': '13', 'Boston, Massachusetts': '14', 'New York City': '7', 'Portland, Oregon': '15', 'San Antonio, Texas': '10', 'Nashville, Tennessee': '5', 'Savannah, Georgia': '3', 'Charleston, South Carolina': '1', 'San Francisco, California': '11', 'Honolulu, Hawaii': '6', 'New Orleans, Louisiana': '4', 'Austin, Texas': '8', 'Chicago, Illinois': '12'}\n"
     ]
    }
   ],
   "source": [
    "# use CSS Selector 'h1' to get title of document\n",
    "title = doc.cssselect('h1')\n",
    "title = title[0].text\n",
    "print title\n",
    "\n",
    "# create list for cities and dictionary for mapping city name with it's rank\n",
    "cities = []\n",
    "top15 = {}\n",
    "\n",
    "# loop through html element and use CSS Selector 'h2' to get city names and add them to list\n",
    "for row in doc.cssselect('h2'):\n",
    "    city = row.text.strip(' \\n\\t\\r') # convert row to text, remove whitespace, line breaks, tabs, and returns from either side of string\n",
    "    cities.append(city)\n",
    "# print cities\n",
    "\n",
    "# loop through list to get city names and rankings and add them to dictionary\n",
    "for city in cities:\n",
    "    items = city.split('. ') # split the string to get rank and city name\n",
    "    rank = items[0]\n",
    "    name = items[1]\n",
    "    top15[name] = rank\n",
    "print top15"
   ]
  },
  {
   "cell_type": "markdown",
   "metadata": {},
   "source": [
    "### 2) Geocode Locations"
   ]
  },
  {
   "cell_type": "code",
   "execution_count": 7,
   "metadata": {},
   "outputs": [],
   "source": [
    "# uses the Nominatim API to get spatial information of each city\n",
    "# inputs:\n",
    "#   place (required): the city to search for\n",
    "#   params: the parameters for the API call\n",
    "#   baseurl: the base url for the API call\n",
    "# returns: a connection to the URL in json format\n",
    "def nominatim(place, \n",
    "              params = {},\n",
    "              baseurl = 'https://nominatim.openstreetmap.org/search'):\n",
    "    params['q'] = place\n",
    "    params['format'] = 'json'\n",
    "    url = baseurl + '?' + urllib.urlencode(params)\n",
    "    print params['q'] + ': ' + url\n",
    "    return urllib2.urlopen(url)"
   ]
  },
  {
   "cell_type": "code",
   "execution_count": 8,
   "metadata": {},
   "outputs": [
    {
     "name": "stdout",
     "output_type": "stream",
     "text": [
      "Santa Fe, New Mexico, USA: https://nominatim.openstreetmap.org/search?q=Santa+Fe%2C+New+Mexico%2C+USA&format=json\n",
      "Asheville, North Carolina, USA: https://nominatim.openstreetmap.org/search?q=Asheville%2C+North+Carolina%2C+USA&format=json\n",
      "Williamsburg, Virginia, USA: https://nominatim.openstreetmap.org/search?q=Williamsburg%2C+Virginia%2C+USA&format=json\n",
      "Boston, Massachusetts, USA: https://nominatim.openstreetmap.org/search?q=Boston%2C+Massachusetts%2C+USA&format=json\n",
      "New York City, USA: https://nominatim.openstreetmap.org/search?q=New+York+City%2C+USA&format=json\n",
      "Portland, Oregon, USA: https://nominatim.openstreetmap.org/search?q=Portland%2C+Oregon%2C+USA&format=json\n",
      "San Antonio, Texas, USA: https://nominatim.openstreetmap.org/search?q=San+Antonio%2C+Texas%2C+USA&format=json\n",
      "Nashville, Tennessee, USA: https://nominatim.openstreetmap.org/search?q=Nashville%2C+Tennessee%2C+USA&format=json\n",
      "Savannah, Georgia, USA: https://nominatim.openstreetmap.org/search?q=Savannah%2C+Georgia%2C+USA&format=json\n",
      "Charleston, South Carolina, USA: https://nominatim.openstreetmap.org/search?q=Charleston%2C+South+Carolina%2C+USA&format=json\n",
      "San Francisco, California, USA: https://nominatim.openstreetmap.org/search?q=San+Francisco%2C+California%2C+USA&format=json\n",
      "Honolulu, Hawaii, USA: https://nominatim.openstreetmap.org/search?q=Honolulu%2C+Hawaii%2C+USA&format=json\n",
      "New Orleans, Louisiana, USA: https://nominatim.openstreetmap.org/search?q=New+Orleans%2C+Louisiana%2C+USA&format=json\n",
      "Austin, Texas, USA: https://nominatim.openstreetmap.org/search?q=Austin%2C+Texas%2C+USA&format=json\n",
      "Chicago, Illinois, USA: https://nominatim.openstreetmap.org/search?q=Chicago%2C+Illinois%2C+USA&format=json\n"
     ]
    }
   ],
   "source": [
    "# create list for jsons of each city\n",
    "jsons = []\n",
    "\n",
    "# loop through dictionary and call method 'nominatim' to get json for each city and add them to list\n",
    "for city in top15:\n",
    "    place = city + ', USA'\n",
    "    text = nominatim(place).read() # create string by calling 'nominatim' method\n",
    "    jsonDocs = json.loads(text)    # convert string to json\n",
    "    jsonDoc = jsonDocs[0]          # use the first json returned (the top result from Nominatim API call)\n",
    "    jsonDoc['name'] = city\n",
    "    jsons.append(jsonDoc)"
   ]
  },
  {
   "cell_type": "code",
   "execution_count": 9,
   "metadata": {},
   "outputs": [
    {
     "name": "stdout",
     "output_type": "stream",
     "text": [
      "GeoDataFrame:\n"
     ]
    },
    {
     "data": {
      "text/html": [
       "<div>\n",
       "<style scoped>\n",
       "    .dataframe tbody tr th:only-of-type {\n",
       "        vertical-align: middle;\n",
       "    }\n",
       "\n",
       "    .dataframe tbody tr th {\n",
       "        vertical-align: top;\n",
       "    }\n",
       "\n",
       "    .dataframe thead th {\n",
       "        text-align: right;\n",
       "    }\n",
       "</style>\n",
       "<table border=\"1\" class=\"dataframe\">\n",
       "  <thead>\n",
       "    <tr style=\"text-align: right;\">\n",
       "      <th></th>\n",
       "      <th>name</th>\n",
       "      <th>lat</th>\n",
       "      <th>lon</th>\n",
       "      <th>geometry</th>\n",
       "    </tr>\n",
       "  </thead>\n",
       "  <tbody>\n",
       "    <tr>\n",
       "      <th>0</th>\n",
       "      <td>Santa Fe, New Mexico</td>\n",
       "      <td>35.687000</td>\n",
       "      <td>-105.937800</td>\n",
       "      <td>POINT (-105.9377997 35.6869996)</td>\n",
       "    </tr>\n",
       "    <tr>\n",
       "      <th>1</th>\n",
       "      <td>Asheville, North Carolina</td>\n",
       "      <td>35.600950</td>\n",
       "      <td>-82.554016</td>\n",
       "      <td>POINT (-82.5540161 35.6009498)</td>\n",
       "    </tr>\n",
       "    <tr>\n",
       "      <th>2</th>\n",
       "      <td>Williamsburg, Virginia</td>\n",
       "      <td>37.270879</td>\n",
       "      <td>-76.707404</td>\n",
       "      <td>POINT (-76.7074042 37.2708788)</td>\n",
       "    </tr>\n",
       "    <tr>\n",
       "      <th>3</th>\n",
       "      <td>Boston, Massachusetts</td>\n",
       "      <td>42.360482</td>\n",
       "      <td>-71.059568</td>\n",
       "      <td>POINT (-71.0595678 42.3604823)</td>\n",
       "    </tr>\n",
       "    <tr>\n",
       "      <th>4</th>\n",
       "      <td>New York City</td>\n",
       "      <td>40.730646</td>\n",
       "      <td>-73.986614</td>\n",
       "      <td>POINT (-73.9866136 40.7306458)</td>\n",
       "    </tr>\n",
       "  </tbody>\n",
       "</table>\n",
       "</div>"
      ],
      "text/plain": [
       "                        name        lat         lon  \\\n",
       "0       Santa Fe, New Mexico  35.687000 -105.937800   \n",
       "1  Asheville, North Carolina  35.600950  -82.554016   \n",
       "2     Williamsburg, Virginia  37.270879  -76.707404   \n",
       "3      Boston, Massachusetts  42.360482  -71.059568   \n",
       "4              New York City  40.730646  -73.986614   \n",
       "\n",
       "                          geometry  \n",
       "0  POINT (-105.9377997 35.6869996)  \n",
       "1   POINT (-82.5540161 35.6009498)  \n",
       "2   POINT (-76.7074042 37.2708788)  \n",
       "3   POINT (-71.0595678 42.3604823)  \n",
       "4   POINT (-73.9866136 40.7306458)  "
      ]
     },
     "execution_count": 9,
     "metadata": {},
     "output_type": "execute_result"
    }
   ],
   "source": [
    "# create list for coordinates of each city\n",
    "data = []\n",
    "\n",
    "# loop through list of jsons to get coordinates of each city and add them to list of coordinates\n",
    "for city in jsons:\n",
    "    name = city['name']\n",
    "    lat = float(city['lat'])\n",
    "    lon = float(city['lon'])\n",
    "    place = [name, lat, lon]\n",
    "    data.append(place)\n",
    "\n",
    "# create DataFrame for coordinates of each city\n",
    "df = pandas.DataFrame(data, columns = ['name', 'lat', 'lon'])\n",
    "# print df\n",
    "\n",
    "# create list for latitute/longiture pairs of each city\n",
    "coords = zip(df['lon'], df['lat'])\n",
    "# print coords\n",
    "\n",
    "# create Point objects for each city latitude/longitude pair\n",
    "geom = [shapely.geometry.Point(city) for city in coords]\n",
    "# print geom\n",
    "\n",
    "# create GeoSeries for Point objects\n",
    "gs = gpd.GeoSeries(geom)\n",
    "# print gs\n",
    "\n",
    "# create GeoDataFrame using DataFrame and GeoSeries\n",
    "gdf = gpd.GeoDataFrame(df, geometry = gs)\n",
    "print \"GeoDataFrame:\"\n",
    "gdf.head()"
   ]
  },
  {
   "cell_type": "markdown",
   "metadata": {},
   "source": [
    "### 3) Create Shapefile and Map"
   ]
  },
  {
   "cell_type": "code",
   "execution_count": 10,
   "metadata": {},
   "outputs": [],
   "source": [
    "# convert GeoDataFrame to shapefile and save file\n",
    "gdf.to_file('C:\\\\Users\\\\sheen\\\\Documents\\\\GitHub\\\\Portfolio\\\\WebToGIS\\\\shapefile\\\\geodataframe.shp')"
   ]
  },
  {
   "cell_type": "code",
   "execution_count": 11,
   "metadata": {},
   "outputs": [],
   "source": [
    "# create list for ranks\n",
    "ranks = []\n",
    "\n",
    "# loop through dictionary and add the city's rank to the list\n",
    "for city in top15:\n",
    "    ranks.append(top15[city])\n",
    "\n",
    "# add list to GeoDataFrame\n",
    "gdf['rank'] = ranks"
   ]
  },
  {
   "cell_type": "code",
   "execution_count": 12,
   "metadata": {},
   "outputs": [],
   "source": [
    "# makes jsons readable\n",
    "# inputs:\n",
    "#   obj (required): the json to format\n",
    "# returns: a json in readable format\n",
    "def pretty(obj):\n",
    "    return json.dumps(obj, sort_keys=True, indent=2)"
   ]
  },
  {
   "cell_type": "code",
   "execution_count": 13,
   "metadata": {},
   "outputs": [
    {
     "data": {
      "text/html": [
       "<div style=\"width:100%;\"><div style=\"position:relative;width:100%;height:0;padding-bottom:60%;\"><iframe src=\"data:text/html;charset=utf-8;base64,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\" style=\"position:absolute;width:100%;height:100%;left:0;top:0;border:none !important;\" allowfullscreen webkitallowfullscreen mozallowfullscreen></iframe></div></div>"
      ],
      "text/plain": [
       "<folium.folium.Map at 0xe86f330>"
      ]
     },
     "execution_count": 13,
     "metadata": {},
     "output_type": "execute_result"
    }
   ],
   "source": [
    "# create map\n",
    "mapTop15 = folium.Map(location = [34.153475, -117.176504], \n",
    "                      zoom_start = 3, \n",
    "                      tiles = 'Stamen Toner')\n",
    "\n",
    "# # create list for styles\n",
    "# style = []\n",
    "# i = 1\n",
    "# while i <= len(gdf):\n",
    "#     style.append({'color': '#ffffff', 'marker-size': 'medium', 'marker-symbol': 'city'})\n",
    "#     i += 1\n",
    "\n",
    "# # add list to GeoDataFrame\n",
    "# gdf['style'] = style\n",
    "\n",
    "# convert GeoDataFrame to GeoJSON\n",
    "s = gdf.to_json()\n",
    "gj = json.loads(s) \n",
    "# print pretty(gj)\n",
    "\n",
    "# loop through json and map each city with popups\n",
    "i = 0\n",
    "while i < 15:\n",
    "    lat = gj['features'][i]['geometry']['coordinates'][1]\n",
    "    lon = gj['features'][i]['geometry']['coordinates'][0]\n",
    "    name = gj['features'][i]['properties']['name']\n",
    "    rank = gj['features'][i]['properties']['rank']\n",
    "    folium.Marker(\n",
    "        [lat, lon], \n",
    "        popup = '#<b>' + rank + '</b><br>' + name,\n",
    "        icon = folium.Icon(color = 'green', icon = 'star')\n",
    "    ).add_to(mapTop15)\n",
    "    i += 1\n",
    "\n",
    "# save map as html document\n",
    "mapTop15.save('top15.html')\n",
    "\n",
    "# view map\n",
    "mapTop15"
   ]
  },
  {
   "cell_type": "markdown",
   "metadata": {},
   "source": [
    "References:\n",
    "- [Splitting on first occurence (stackoverflow)](https://stackoverflow.com/questions/6903557/splitting-on-first-occurrence)\n",
    "- [Errors and Exceptions (python docs)](https://docs.python.org/2/tutorial/errors.html)\n",
    "- [Data Journalism Handbook scraper example code.ipynb (canvas)](https://canvas.uw.edu/courses/1127520/files/45627733/download?verifier=hObkCclQ1c4JyDJn7L7k8yOSphV3Mac3XvVPcIYt&wrap=1)\n",
    "- [Geopanda write GeoDataFrame into shapefile or spatialite (stack exchange)](https://gis.stackexchange.com/questions/237162/geopanda-write-geodataframe-into-shapefile-or-spatialite)\n",
    "- [Markers (python-visualization.github.io/folium)](https://python-visualization.github.io/folium/quickstart.html#Markers)\n",
    "- [Geopandas.ipynb (github)](https://github.com/python-visualization/folium/blob/master/examples/Geopandas.ipynb)"
   ]
  }
 ],
 "metadata": {
  "kernelspec": {
   "display_name": "Python 2",
   "language": "python",
   "name": "python2"
  },
  "language_info": {
   "codemirror_mode": {
    "name": "ipython",
    "version": 2
   },
   "file_extension": ".py",
   "mimetype": "text/x-python",
   "name": "python",
   "nbconvert_exporter": "python",
   "pygments_lexer": "ipython2",
   "version": "2.7.14"
  }
 },
 "nbformat": 4,
 "nbformat_minor": 2
}
